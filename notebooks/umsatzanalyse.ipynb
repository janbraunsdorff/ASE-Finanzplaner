{
 "metadata": {
  "language_info": {
   "codemirror_mode": {
    "name": "ipython",
    "version": 3
   },
   "file_extension": ".py",
   "mimetype": "text/x-python",
   "name": "python",
   "nbconvert_exporter": "python",
   "pygments_lexer": "ipython3",
   "version": "3.9.1"
  },
  "orig_nbformat": 2,
  "kernelspec": {
   "name": "python391jvsc74a57bd0aee8b7b246df8f9039afb4144a1f6fd8d2ca17a180786b69acc140d282b71a49",
   "display_name": "Python 3.9.1 64-bit"
  },
  "metadata": {
   "interpreter": {
    "hash": "aee8b7b246df8f9039afb4144a1f6fd8d2ca17a180786b69acc140d282b71a49"
   }
  }
 },
 "nbformat": 4,
 "nbformat_minor": 2,
 "cells": [
  {
   "cell_type": "code",
   "execution_count": 1,
   "metadata": {},
   "outputs": [],
   "source": [
    "import pandas as pd"
   ]
  },
  {
   "cell_type": "code",
   "execution_count": 4,
   "metadata": {},
   "outputs": [],
   "source": [
    "df = pd.read_csv('../drop.csv')"
   ]
  },
  {
   "cell_type": "code",
   "execution_count": 5,
   "metadata": {},
   "outputs": [
    {
     "output_type": "execute_result",
     "data": {
      "text/plain": [
       "                         TRANSACTION_ID ACCOUNT_ACRONYM  TRANSACTION_CATEGORY  \\\n",
       "0  82e1510c-f2cb-4d88-9667-d3ee5be583b1       VB-GK-Alt                 Start   \n",
       "1  9ba9f54c-5df4-4460-9ed6-8a00777405f9       VB-GK-Alt                 Miete   \n",
       "2  76bb503d-6ffa-45ee-9fab-ceef0f150119       VB-GK-Alt          Geldabhebung   \n",
       "3  f86152cd-1188-4264-b65d-a3901109ed69       VB-GK-Alt  Einkauf - Supermarkt   \n",
       "4  33a47405-454d-421c-af1d-aa6e005b1bd8       VB-GK-Alt            Kindergeld   \n",
       "\n",
       "  TRANSACTION_DATE  TRANSACTION_CONTRACT   TRANSACTION_THIRD_PARTY  \\\n",
       "0       2018-09-02                 False           Jan Braunsdorff   \n",
       "1       2018-09-03                  True                Paul Beyer   \n",
       "2       2018-09-03                 False       Volksbank Karslruhe   \n",
       "3       2018-09-03                 False  Scheck-In Center Durlach   \n",
       "4       2018-09-03                  True        Thomas Braunsdorff   \n",
       "\n",
       "   TRANSACTION_VALUE  \n",
       "0              70730  \n",
       "1             -48000  \n",
       "2              -5000  \n",
       "3               -386  \n",
       "4              19400  "
      ],
      "text/html": "<div>\n<style scoped>\n    .dataframe tbody tr th:only-of-type {\n        vertical-align: middle;\n    }\n\n    .dataframe tbody tr th {\n        vertical-align: top;\n    }\n\n    .dataframe thead th {\n        text-align: right;\n    }\n</style>\n<table border=\"1\" class=\"dataframe\">\n  <thead>\n    <tr style=\"text-align: right;\">\n      <th></th>\n      <th>TRANSACTION_ID</th>\n      <th>ACCOUNT_ACRONYM</th>\n      <th>TRANSACTION_CATEGORY</th>\n      <th>TRANSACTION_DATE</th>\n      <th>TRANSACTION_CONTRACT</th>\n      <th>TRANSACTION_THIRD_PARTY</th>\n      <th>TRANSACTION_VALUE</th>\n    </tr>\n  </thead>\n  <tbody>\n    <tr>\n      <th>0</th>\n      <td>82e1510c-f2cb-4d88-9667-d3ee5be583b1</td>\n      <td>VB-GK-Alt</td>\n      <td>Start</td>\n      <td>2018-09-02</td>\n      <td>False</td>\n      <td>Jan Braunsdorff</td>\n      <td>70730</td>\n    </tr>\n    <tr>\n      <th>1</th>\n      <td>9ba9f54c-5df4-4460-9ed6-8a00777405f9</td>\n      <td>VB-GK-Alt</td>\n      <td>Miete</td>\n      <td>2018-09-03</td>\n      <td>True</td>\n      <td>Paul Beyer</td>\n      <td>-48000</td>\n    </tr>\n    <tr>\n      <th>2</th>\n      <td>76bb503d-6ffa-45ee-9fab-ceef0f150119</td>\n      <td>VB-GK-Alt</td>\n      <td>Geldabhebung</td>\n      <td>2018-09-03</td>\n      <td>False</td>\n      <td>Volksbank Karslruhe</td>\n      <td>-5000</td>\n    </tr>\n    <tr>\n      <th>3</th>\n      <td>f86152cd-1188-4264-b65d-a3901109ed69</td>\n      <td>VB-GK-Alt</td>\n      <td>Einkauf - Supermarkt</td>\n      <td>2018-09-03</td>\n      <td>False</td>\n      <td>Scheck-In Center Durlach</td>\n      <td>-386</td>\n    </tr>\n    <tr>\n      <th>4</th>\n      <td>33a47405-454d-421c-af1d-aa6e005b1bd8</td>\n      <td>VB-GK-Alt</td>\n      <td>Kindergeld</td>\n      <td>2018-09-03</td>\n      <td>True</td>\n      <td>Thomas Braunsdorff</td>\n      <td>19400</td>\n    </tr>\n  </tbody>\n</table>\n</div>"
     },
     "metadata": {},
     "execution_count": 5
    }
   ],
   "source": [
    "df.head()"
   ]
  },
  {
   "cell_type": "code",
   "execution_count": null,
   "metadata": {},
   "outputs": [],
   "source": []
  }
 ]
}